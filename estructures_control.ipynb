{
 "cells": [
  {
   "cell_type": "markdown",
   "metadata": {},
   "source": [
    "#### 1. Crear un programa que et classifiqui una variable numèrica en funció de l’escala Suspès/Aprovat/Notable/Excel·lent.\n",
    "\n",
    "\n",
    "Suspès < 5\n",
    "\n",
    "Aprovat > 5 and < 7\n",
    "\n",
    "Notable > 7 and < 9  \n",
    "\n",
    "Excel·lent > 9"
   ]
  },
  {
   "cell_type": "code",
   "execution_count": 46,
   "metadata": {},
   "outputs": [
    {
     "name": "stdout",
     "output_type": "stream",
     "text": [
      "Si has obtenido un 10 tienes una califiación excelente\n"
     ]
    }
   ],
   "source": [
    "grade_input = input(\"¿Qué calificación has obtenido?\")\n",
    "\n",
    "if \".\" in grade_input:\n",
    "    grade = float(grade_input)\n",
    "else: \n",
    "    grade = int(grade_input)\n",
    "\n",
    "while grade < 0 or grade > 10:\n",
    "    grade_input = input(\"No puedes introducir una nota menor de 0 o mayor de 10. Por favor, introduce tu calificación de nuevo\")\n",
    "\n",
    "    if \".\" in grade_input:\n",
    "        grade = float(grade_input)\n",
    "    else: \n",
    "        grade = int(grade_input)\n",
    "\n",
    "if grade >= 0 and grade < 5:\n",
    "    print(\"Si has obtenido un\", grade, \"estás suspendido\")\n",
    "\n",
    "elif grade >= 5 and grade < 7:\n",
    "    print(\"Si has obtenido un\", grade, \"estás aprobado\")\n",
    "\n",
    "elif grade >= 7 and grade < 9:\n",
    "    print(\"Si has obtenido un\", grade, \"tienes un notable\")\n",
    "\n",
    "else:\n",
    "    print(\"Si has obtenido un\", grade, \"tienes una califiación excelente\")"
   ]
  },
  {
   "cell_type": "markdown",
   "metadata": {},
   "source": [
    "#### 2. Crea un programa que et pregunti dos números. T’ha de mostrar un missatge dient si el primer és més gran, el segon és més gran o són iguals\n",
    "\n",
    "Usar este tutorial: https://www.programiz.com/python-programming/input-output-import "
   ]
  },
  {
   "cell_type": "code",
   "execution_count": 23,
   "metadata": {},
   "outputs": [
    {
     "name": "stdout",
     "output_type": "stream",
     "text": [
      "El primer nº es el 10 y el segundo es el 10\n",
      "Ambos números son iguales\n"
     ]
    }
   ],
   "source": [
    "first_inp_numb = int(input(\"Introduce un primer número\"))\n",
    "second_inp_numb = int(input(\"Introduce un segundo número\"))\n",
    "\n",
    "print(\"El primer nº es el {} y el segundo es el {}\".format(first_inp_numb, second_inp_numb))\n",
    "\n",
    "if first_inp_numb > second_inp_numb:\n",
    "    print(\"El primer nº es mayor que el segundo\")\n",
    "\n",
    "elif second_inp_numb > first_inp_numb:\n",
    "    print(\"El segundo nº es mayor que el primero\")\n",
    "    \n",
    "else:\n",
    "    print(\"Osea, ambos números son iguales\")"
   ]
  },
  {
   "cell_type": "markdown",
   "metadata": {},
   "source": [
    "#### 3. Crea un programa que et pregunti el teu nom i et demani un número. \n",
    "\n",
    "Si el número és 0, hauria de mostrar un missatge d’error. \n",
    "\n",
    "En cas contrari, hauria de mostrar el nom repetit tants cops com indiqui el número, per exemple, “Joan Joan Joan”."
   ]
  },
  {
   "cell_type": "code",
   "execution_count": 41,
   "metadata": {},
   "outputs": [
    {
     "name": "stdout",
     "output_type": "stream",
     "text": [
      "Joan, has cometido un error introduciendo un 0\n"
     ]
    }
   ],
   "source": [
    "name_inp = input(\"¿Cuál es tu nombre?\")\n",
    "numb_inp = int(input(\"Dame un nº\"))\n",
    "\n",
    "if numb_inp == 0:\n",
    "    print(\"{}, has cometido un error introduciendo un {}\".format(name_inp, numb_inp))\n",
    "else: \n",
    "    for x in range(numb_inp):\n",
    "        print(name_inp, end = \" \") \n",
    "\n",
    "    "
   ]
  },
  {
   "cell_type": "markdown",
   "metadata": {},
   "source": [
    "#### 4. Donada una llista qualsevol, crea un programa que et digui si és simètrica o no. Si ho és, que et digui quants elements té."
   ]
  },
  {
   "cell_type": "code",
   "execution_count": 18,
   "metadata": {},
   "outputs": [
    {
     "name": "stdout",
     "output_type": "stream",
     "text": [
      "['Yo hago yoga hoy'] es simétrica\n",
      "La lista tiene 1 elemento\n"
     ]
    }
   ],
   "source": [
    "list = [\"Yo hago yoga hoy\"]\n",
    "half_list = int(len(list) / 2)\n",
    "\n",
    "if len(list) % 2 == 0:  # par\n",
    "    first_part_list = list[:half_list]\n",
    "    second_part_list = list[half_list:]\n",
    "\n",
    "else:  # impar\n",
    "    first_part_list = list[:half_list]\n",
    "    second_part_list = list[half_list + 1:]\n",
    " \n",
    "if first_part_list == second_part_list:\n",
    "    print(list, \"es simétrica\")\n",
    "    if len(list) == 1:\n",
    "        print(\"La lista tiene\", len(list), \"elemento\")\n",
    "    else:\n",
    "        print(\"La lista tiene\", len(list), \"elementos\")\n",
    "else:\n",
    "    print(list, 'La lista no es simétrica')"
   ]
  },
  {
   "cell_type": "markdown",
   "metadata": {},
   "source": [
    "#### 5. Donada una llista, crea un programa que et digui quants números coincideixen amb la seva posició. \n",
    "\n",
    "list = [3, 4, 2, 0, 2, 3, 6] \n",
    "\n",
    "El 2 i el 6 coincideixen"
   ]
  },
  {
   "cell_type": "code",
   "execution_count": 44,
   "metadata": {},
   "outputs": [
    {
     "name": "stdout",
     "output_type": "stream",
     "text": [
      "[10, 8, 8, 6, 6, 4, 6, 9, 6, 9]\n",
      "Nº 6 índice 6\n",
      "Nº 9 índice 9\n",
      "Hay 2 números que coinciden con su posición\n"
     ]
    }
   ],
   "source": [
    "import random\n",
    "\n",
    "rand_list2 = []\n",
    "\n",
    "for i in range(10):\n",
    "    rand_list2.append(random.randint(1, 10))\n",
    "\n",
    "print(rand_list2)\n",
    "\n",
    "index_value = 0 # 1er valor de la lista está en 0\n",
    "howmany_numb_match_index = 0 \n",
    "for number in rand_list2:\n",
    "    numb_value = number\n",
    "\n",
    "    if numb_value == index_value: # 1er valor de la lista está en 0\n",
    "        print(\"Nº\", numb_value, \"índice\", index_value)\n",
    "        howmany_numb_match_index = howmany_numb_match_index + 1\n",
    "    \n",
    "    index_value = index_value + 1 # Se hace esta suma para que cada valor coincida con su índice en el loop\n",
    "\n",
    "if howmany_numb_match_index == 0:\n",
    "    print(\"Ningún nº coincide con su posición\")\n",
    "\n",
    "elif howmany_numb_match_index == 1:\n",
    "    print(\"Hay\", howmany_numb_match_index, \"número que coincide con su posición\")\n",
    "\n",
    "else:\n",
    "    print(\"Hay\", howmany_numb_match_index, \"números que coinciden con su posición\")"
   ]
  }
 ],
 "metadata": {
  "kernelspec": {
   "display_name": "Python 3.9.12 ('base')",
   "language": "python",
   "name": "python3"
  },
  "language_info": {
   "codemirror_mode": {
    "name": "ipython",
    "version": 3
   },
   "file_extension": ".py",
   "mimetype": "text/x-python",
   "name": "python",
   "nbconvert_exporter": "python",
   "pygments_lexer": "ipython3",
   "version": "3.9.12"
  },
  "orig_nbformat": 4,
  "vscode": {
   "interpreter": {
    "hash": "e06ff7da33dc9620448857a90ad8b5f428f0d573d205a934d2841c8aee45ea32"
   }
  }
 },
 "nbformat": 4,
 "nbformat_minor": 2
}
